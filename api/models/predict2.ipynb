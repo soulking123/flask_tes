{
 "cells": [
  {
   "cell_type": "code",
   "execution_count": 2,
   "id": "a785b6d1",
   "metadata": {},
   "outputs": [
    {
     "name": "stderr",
     "output_type": "stream",
     "text": [
      "Matplotlib is building the font cache; this may take a moment.\n"
     ]
    }
   ],
   "source": [
    "import numpy as np\n",
    "import pandas as pd\n",
    "import pickle\n",
    "# import cv2\n",
    "import matplotlib.pyplot as plt"
   ]
  },
  {
   "cell_type": "code",
   "execution_count": 3,
   "id": "d5dd7e3d",
   "metadata": {},
   "outputs": [],
   "source": [
    "df_top = pd.read_csv('topwear.csv')\n",
    "df_bottom = pd.read_csv('bottomwear.csv')\n",
    "model_top = pickle.load(open('topwear_model.sav', 'rb'))\n",
    "model_bottom = pickle.load(open('bottomwear_model.sav', 'rb'))\n",
    "similarities_top = np.load(\"topwear_data_similarities.npy\")\n",
    "similarities_bottom = np.load(\"bottomwear_data_similarities.npy\")"
   ]
  },
  {
   "cell_type": "code",
   "execution_count": 5,
   "id": "2b4274a7",
   "metadata": {},
   "outputs": [
    {
     "name": "stdout",
     "output_type": "stream",
     "text": [
      "[[   81    91    87    88 14235  8645    86  9401 12965  2341]]\n",
      "[[ 131   73  149 2139  132 1683  308  615 2238 2594]]\n"
     ]
    },
    {
     "data": {
      "text/plain": [
       "{'topWear': [{'id': 'images/82.jpg', 'link': 'None'},\n",
       "  {'id': 'images/92.jpg', 'link': 'None'},\n",
       "  {'id': 'images/88.jpg', 'link': 'None'},\n",
       "  {'id': 'images/89.jpg', 'link': 'None'},\n",
       "  {'id': 'images/32573.jpg', 'link': 'None'},\n",
       "  {'id': 'images/42642.jpg', 'link': 'None'},\n",
       "  {'id': 'images/87.jpg', 'link': 'None'}],\n",
       " 'bottomWear': [{'id': 'images/132.jpg', 'link': 'None'},\n",
       "  {'id': 'images/74.jpg', 'link': 'None'},\n",
       "  {'id': 'images/150.jpg', 'link': 'None'},\n",
       "  {'id': 'images/18577.jpg', 'link': 'None'},\n",
       "  {'id': 'images/133.jpg', 'link': 'None'},\n",
       "  {'id': 'images/11575.jpg', 'link': 'None'},\n",
       "  {'id': 'images/57100.jpg', 'link': 'None'}]}"
      ]
     },
     "execution_count": 5,
     "metadata": {},
     "output_type": "execute_result"
    }
   ],
   "source": [
    "def predict_pipeline(inputs):\n",
    "    df_baju = df_top.copy()\n",
    "    df_baju = df_baju[df_baju[\"gender\"]==inputs[\"gender\"]]\n",
    "    df_baju = df_baju[df_baju[\"usage\"]==inputs[\"usage\"]]\n",
    "    df_baju = df_baju[df_baju[\"baseColour\"]==inputs[\"baseColour\"]]\n",
    "    \n",
    "    df_celana = df_bottom.copy()\n",
    "    df_celana = df_celana[df_celana[\"gender\"]==inputs[\"gender\"]]\n",
    "    df_celana = df_celana[df_celana[\"usage\"]==inputs[\"usage\"]]\n",
    "    df_celana = df_celana[df_celana[\"baseColour\"]==inputs[\"baseColour\"]]\n",
    "    \n",
    "#     item =  [df_baju[\"filename\"].sample(n=1).tolist()[0],df_celana[\"filename\"].sample(n=1).tolist()[0]]\n",
    "\n",
    "    category = [\"topWear\",\"bottomWear\"]\n",
    "    \n",
    "    row_index = [df_baju.index[df_baju['filename'] == df_baju[\"filename\"].sample(n=1).tolist()[0]].tolist()[0],\n",
    "                 df_celana.index[df_celana['filename'] == df_celana[\"filename\"].sample(n=1).tolist()[0]].tolist()[0]]\n",
    "    hm = {}\n",
    "    for count,i in enumerate(row_index):\n",
    "        if count == 0:\n",
    "            dist, index = model_top.kneighbors(X=similarities_top[i,:].reshape(1,-1))\n",
    "        elif count == 1:\n",
    "            dist, index = model_bottom.kneighbors(X=similarities_bottom[i,:].reshape(1,-1))\n",
    "        hm2 = {}\n",
    "        similar_item = []\n",
    "        print(index)\n",
    "        for j in range(7):\n",
    "            similar_item.append({\"id\":df_top.loc[index[0][j],\"filename\"],\n",
    "                            \"link\":\"None\"})\n",
    "        hm[f\"{category[count]}\"] = similar_item\n",
    "    return hm\n",
    "\n",
    "inputs = {\n",
    "        \"gender\":\"Men\",\n",
    "        \"usage\":\"Formal\",\n",
    "        \"baseColour\":\"Multi\"\n",
    "    }\n",
    "predict_pipeline(inputs)"
   ]
  },
  {
   "cell_type": "code",
   "execution_count": 70,
   "id": "45fd9c32",
   "metadata": {},
   "outputs": [],
   "source": []
  },
  {
   "cell_type": "code",
   "execution_count": 59,
   "id": "eeef2595",
   "metadata": {},
   "outputs": [
    {
     "data": {
      "text/html": [
       "<div>\n",
       "<style scoped>\n",
       "    .dataframe tbody tr th:only-of-type {\n",
       "        vertical-align: middle;\n",
       "    }\n",
       "\n",
       "    .dataframe tbody tr th {\n",
       "        vertical-align: top;\n",
       "    }\n",
       "\n",
       "    .dataframe thead th {\n",
       "        text-align: right;\n",
       "    }\n",
       "</style>\n",
       "<table border=\"1\" class=\"dataframe\">\n",
       "  <thead>\n",
       "    <tr style=\"text-align: right;\">\n",
       "      <th></th>\n",
       "      <th>id</th>\n",
       "    </tr>\n",
       "  </thead>\n",
       "  <tbody>\n",
       "    <tr>\n",
       "      <th>0</th>\n",
       "      <td>0</td>\n",
       "    </tr>\n",
       "    <tr>\n",
       "      <th>1</th>\n",
       "      <td>1</td>\n",
       "    </tr>\n",
       "    <tr>\n",
       "      <th>2</th>\n",
       "      <td>2</td>\n",
       "    </tr>\n",
       "    <tr>\n",
       "      <th>3</th>\n",
       "      <td>3</td>\n",
       "    </tr>\n",
       "    <tr>\n",
       "      <th>4</th>\n",
       "      <td>4</td>\n",
       "    </tr>\n",
       "  </tbody>\n",
       "</table>\n",
       "</div>"
      ],
      "text/plain": [
       "   id\n",
       "0   0\n",
       "1   1\n",
       "2   2\n",
       "3   3\n",
       "4   4"
      ]
     },
     "execution_count": 59,
     "metadata": {},
     "output_type": "execute_result"
    }
   ],
   "source": []
  },
  {
   "cell_type": "code",
   "execution_count": null,
   "id": "dce61b59",
   "metadata": {},
   "outputs": [],
   "source": []
  }
 ],
 "metadata": {
  "kernelspec": {
   "display_name": "Python 3 (ipykernel)",
   "language": "python",
   "name": "python3"
  },
  "language_info": {
   "codemirror_mode": {
    "name": "ipython",
    "version": 3
   },
   "file_extension": ".py",
   "mimetype": "text/x-python",
   "name": "python",
   "nbconvert_exporter": "python",
   "pygments_lexer": "ipython3",
   "version": "3.10.9"
  }
 },
 "nbformat": 4,
 "nbformat_minor": 5
}
